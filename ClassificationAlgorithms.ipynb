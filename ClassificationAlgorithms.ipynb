{
 "cells": [
  {
   "cell_type": "markdown",
   "metadata": {
    "id": "7pxJixfODD76"
   },
   "source": [
    "# FIT5202 Data processing for big data\n",
    "\n",
    "##  Activity: Machine Learning with Spark (Classification Using Decision Tree, Random Forest,  and Logistic Regression)\n",
    "\n",
    "Last week we learnt about basics of machine learning with Apache Spark. **``MLlib``** is Apache Spark's scalable machine learning library. Its goal is to make practical machine learning scalable and easy. At a high level, it provides tools such as:\n",
    "\n",
    "- ML Algorithms: common learning algorithms such as classification, regression, clustering, and collaborative filtering\n",
    "- Featurization: feature extraction, transformation, dimensionality reduction, and selection\n",
    "- Pipelines: tools for constructing, evaluating, and tuning ML Pipelines\n",
    "- Persistence: saving and load algorithms, models, and Pipelines\n",
    "- Utilities: linear algebra, statistics, data handling, etc.\n",
    "\n",
    "We looked into transformers, estimators and machine learning pipeline in the last weeks tutorial activity.\n",
    "\n",
    "This week we have learnt about different classification algorithms in the lecture. We will look into how to use the different popular family of classification and regression methods; Decision Trees and Random forests."
   ]
  },
  {
   "cell_type": "markdown",
   "metadata": {
    "id": "7feZkJb5DD77"
   },
   "source": [
    "## Table of Contents\n",
    "\n",
    "* [Bank case study: Will the client subscribe?](#one)\n",
    "* [Data Loading and Preparation](#data-preparation)\n",
    "* [Feature Engineering](#feature-engineering)\n",
    "    * [StringIndexer](#feature-engineering)\n",
    "    * [OneHotEncoder](#feature-engineering)\n",
    "    * [VectorAssembler](#feature-engineering)\n",
    "* [Pipeline API](#pipeline)\n",
    "* [Train/Test Split](#train-test)\n",
    "* [ML Classification Models](#models)\n",
    "    * [Decision Tree](#dt)\n",
    "    * [Random Forest](#rf)        \n",
    "    * [Logistic Regression](#lr)    \n",
    "* [Model Evaluation](#model-evaluation)\n",
    "    * [Confusion Matrix](#confusion-matrix)\n",
    "    * [Area Under the Curve](#roc)    \n",
    "    * [Visualizing ROC Curve](#roc-viz)\n",
    "* [Lab Tasks](#lab-task-1)\n",
    "    * [Lab Task 1](#lab-task-1)\n",
    "    * [Lab Task 2](#lab-task-2)\n",
    "    * [Lab Task 3](#lab-task-3)\n",
    "    * [Lab Task 4](#lab-task-4)\n",
    "    * [Lab Task 5](#lab-task-5)\n",
    "* [Challenge Tasks](#challenge-task)\n",
    "    * [Challenge Task 1](#challenge-task)\n",
    "    "
   ]
  },
  {
   "cell_type": "markdown",
   "metadata": {
    "id": "hptiuJSzDD78"
   },
   "source": [
    "## Bank case study: Will the client subscribe? <a class=\"anchor\" id=\"one\"></a>\n",
    "<hr/>\n",
    "\n",
    "The data was used to direct marketing campaigns of a banking institution. The marketing campaigns were based on phone calls. The classification goal is to predict whether the client will subscribe (1/0) to a term deposit.\n",
    "\n",
    "### **Attributes**\n",
    "\n",
    "1. age (numeric)\n",
    "2. job : type of job (categorical: 'admin.','blue-collar','entrepreneur','housemaid','management','retired','self-employed','services','student','technician','unemployed','unknown')\n",
    "3. marital : marital status (categorical: 'divorced','married','single','unknown'; note: 'divorced' means divorced or widowed)\n",
    "4. education (categorical: 'primary', 'secondary', 'tertiary', 'unknown')\n",
    "5. default: has credit in default? (categorical: 'no','yes','unknown')\n",
    "6. balance : bank balance\n",
    "7. housing: has housing loan? (categorical: 'no','yes','unknown')\n",
    "8. loan: has personal loan? (categorical: 'no','yes','unknown')\n",
    "\n",
    "### Related with the last contact of the current campaign:\n",
    "9. contact: contact communication type (categorical: 'cellular','telephone','unknown')\n",
    "10. day: last contact day of the week (numerical: 1,2,...28,29,30)\n",
    "1. month: last contact month of year (categorical: 'jan', 'feb', 'mar', ..., 'nov', 'dec')\n",
    "12. duration: last contact duration, in seconds (numeric). Important note: this attribute highly affects the output target (e.g., if duration=0 then y='no'). Yet, the duration is not known before a call is performed. Also, after the end of the call y is obviously known. Thus, this input should only be included for benchmark purposes and should be discarded if the intention is to have a realistic predictive model.\n",
    "\n",
    "### Other attributes:\n",
    "12. campaign: number of contacts performed during this campaign and for this client (numeric, includes last contact)\n",
    "13. pdays: number of days that passed by after the client was last contacted from a previous campaign (numeric; 999 means client was not previously contacted)\n",
    "14. previous: number of contacts performed before this campaign and for this client (numeric)\n",
    "15. poutcome: outcome of the previous marketing campaign (categorical: 'failure','nonexistent','success','unknown')\n",
    "\n",
    "### Output variable (desired target):\n",
    "16. deposit - has the client subscribed a term deposit? (binary: 'yes','no')"
   ]
  },
  {
   "cell_type": "code",
   "execution_count": 1,
   "metadata": {
    "id": "UhqA_aO-T5DF"
   },
   "outputs": [],
   "source": [
    "# Import SparkConf class into program\n",
    "from pyspark import SparkConf\n",
    "\n",
    "# local[*]: run Spark in local mode with as many working processors as logical cores on your machine\n",
    "# If we want Spark to run locally with 'k' worker threads, we can specify as \"local[k]\".\n",
    "master = \"local[*]\"\n",
    "# The `appName` field is a name to be shown on the Spark cluster UI page\n",
    "app_name = \"Classification Algorithms\"\n",
    "# Setup configuration parameters for Spark\n",
    "spark_conf = SparkConf().setMaster(master).setAppName(app_name)\n",
    "\n",
    "#TODO : Initialize Spark Session and create a SparkContext Object\n",
    "# Import SparkContext and SparkSession classes\n",
    "from pyspark import SparkContext # Spark\n",
    "from pyspark.sql import SparkSession # Spark SQL\n",
    "\n",
    "spark = SparkSession.builder.config(conf=spark_conf).getOrCreate()\n",
    "sc = spark.sparkContext\n",
    "sc.setLogLevel('ERROR')"
   ]
  },
  {
   "cell_type": "markdown",
   "metadata": {
    "id": "nQ9ufNKFDD78"
   },
   "source": [
    "<a class=\"anchor\" id=\"lab-task-1\"></a>\n",
    "<div style=\"background:rgba(0,109,174,0.2);padding:10px;border-radius:4px\"><strong style=\"color:#FF5555\">1. Lab Task: </strong> \n",
    "\n",
    "Complete the following steps for the initial part to get the data ready for the Classification Algorithms.\n",
    "\n",
    " 1. **Loading data:** Load the <code>bank.csv</code> file using spark session\n",
    " 2. **Prepare the data :** Prepare data for machine learning and preprocess the data according to the algorithm for training. \n",
    " 3. **Feature Engineering:** Use <code>StringIndexer</code>, <code>OneHotEncoder</code> and <code>Vector Assembler</code> to transform the dataset into <em>features</em> and <em>label</em> columns. \n",
    " 4. **Pipeline API :** Assemble the above steps of transformation into a <code>Pipeline</code>. Use the pipeline to <strong>transform</strong> the data.\n",
    " 5. **Train/Test Split :** For the transformed data, create a <strong>train/test</strong> split of <strong>80%/20%</strong>.\n",
    "</div>"
   ]
  },
  {
   "cell_type": "markdown",
   "metadata": {
    "id": "cYWZb3U9DD79"
   },
   "source": [
    "### Step 1: Data Loading and Preparation <a class=\"anchor\" name=\"data-preparation\"></a> "
   ]
  },
  {
   "cell_type": "markdown",
   "metadata": {
    "id": "O4vnnm9jDD79"
   },
   "source": [
    "In this step, you can do some data exploration like: \n",
    "1. See some sample data, check the schema\n",
    "2. Check the statistics of the numerical columns in the dataset\n",
    "3. Target Variable Distribution, what are the number of instances the target variable has?\n",
    "4. Check if the dataframe contains null values?\n",
    "5. Separate the numerical and non-numerical columns to apply feature engineering"
   ]
  },
  {
   "cell_type": "code",
   "execution_count": 154,
   "metadata": {
    "id": "UCXzNiagRBAB"
   },
   "outputs": [],
   "source": [
    "#Load the CSV File\n",
    "df_bank = spark.read.format('csv')\\\n",
    "            .option('header',True)\\\n",
    "            .option('escape','\"')\\\n",
    "            .load('bank.csv')"
   ]
  },
  {
   "cell_type": "code",
   "execution_count": 155,
   "metadata": {
    "scrolled": false
   },
   "outputs": [
    {
     "name": "stdout",
     "output_type": "stream",
     "text": [
      "root\n",
      " |-- age: string (nullable = true)\n",
      " |-- job: string (nullable = true)\n",
      " |-- marital: string (nullable = true)\n",
      " |-- education: string (nullable = true)\n",
      " |-- default: string (nullable = true)\n",
      " |-- balance: string (nullable = true)\n",
      " |-- housing: string (nullable = true)\n",
      " |-- loan: string (nullable = true)\n",
      " |-- contact: string (nullable = true)\n",
      " |-- day: string (nullable = true)\n",
      " |-- month: string (nullable = true)\n",
      " |-- duration: string (nullable = true)\n",
      " |-- campaign: string (nullable = true)\n",
      " |-- pdays: string (nullable = true)\n",
      " |-- previous: string (nullable = true)\n",
      " |-- poutcome: string (nullable = true)\n",
      " |-- deposit: string (nullable = true)\n",
      "\n"
     ]
    }
   ],
   "source": [
    "df_bank.printSchema()"
   ]
  },
  {
   "cell_type": "markdown",
   "metadata": {},
   "source": [
    "**pre-processing**"
   ]
  },
  {
   "cell_type": "code",
   "execution_count": 156,
   "metadata": {},
   "outputs": [
    {
     "name": "stdout",
     "output_type": "stream",
     "text": [
      "+---+---+-------+---------+-------+-------+-------+----+-------+---+-----+--------+--------+-----+--------+--------+-------+\n",
      "|age|job|marital|education|default|balance|housing|loan|contact|day|month|duration|campaign|pdays|previous|poutcome|deposit|\n",
      "+---+---+-------+---------+-------+-------+-------+----+-------+---+-----+--------+--------+-----+--------+--------+-------+\n",
      "+---+---+-------+---------+-------+-------+-------+----+-------+---+-----+--------+--------+-----+--------+--------+-------+\n",
      "\n"
     ]
    }
   ],
   "source": [
    "df_bank.filter(col(\"deposit\").isNull()).show()"
   ]
  },
  {
   "cell_type": "code",
   "execution_count": 157,
   "metadata": {},
   "outputs": [],
   "source": [
    "from pyspark.sql.functions import cast, col"
   ]
  },
  {
   "cell_type": "code",
   "execution_count": 158,
   "metadata": {},
   "outputs": [],
   "source": [
    "df_bank_clean = df_bank.drop_duplicates()\n",
    "df_bank_clean = df_bank.withColumn(\"age\", col(\"age\").cast(\"int\"))\\\n",
    "        .withColumn(\"balance\", col(\"balance\").cast(\"float\"))\\\n",
    "        .withColumn(\"day\", col(\"day\").cast(\"int\"))\\\n",
    "        .withColumn(\"duration\", col(\"duration\").cast(\"int\"))\\\n",
    "        .withColumn(\"campaign\", col(\"campaign\").cast(\"int\"))\\\n",
    "        .withColumn(\"pdays\", col(\"pdays\").cast(\"int\"))\\\n",
    "        .withColumn(\"previous\", col(\"previous\").cast(\"int\"))\n"
   ]
  },
  {
   "cell_type": "markdown",
   "metadata": {
    "id": "L53dtb-pDD7-"
   },
   "source": [
    "### Step 2: Feature Engineering <a class=\"anchor\" name=\"feature-engineering\"></a> \n",
    "<strong>Hint :</strong> Use all the features, separate the numerical and non-numerical features to simplify the Feature Engineering process. For the <strong style=\"color:red\"> target variable, make sure 1 is for Yes and 0 is for No</strong> while converting it to numeric representation."
   ]
  },
  {
   "cell_type": "markdown",
   "metadata": {},
   "source": [
    "**String Indexer operations**"
   ]
  },
  {
   "cell_type": "code",
   "execution_count": 162,
   "metadata": {},
   "outputs": [],
   "source": [
    "from pyspark.ml.feature import StringIndexer"
   ]
  },
  {
   "cell_type": "code",
   "execution_count": 163,
   "metadata": {},
   "outputs": [],
   "source": [
    "inputCols = [\"job\", \"marital\", \"education\", \"default\", \"housing\", \"loan\", \"contact\", \"month\", \"poutcome\",\"deposit\"]\n",
    "outputCols = [f\"{x}_index\" for x in inputCols]"
   ]
  },
  {
   "cell_type": "code",
   "execution_count": 164,
   "metadata": {},
   "outputs": [],
   "source": [
    "indexer = StringIndexer(inputCols=inputCols, outputCols=outputCols)\n",
    "# indexed_transformer = indexer.fit(df_bank_clean)\n",
    "# df_bank_indexed = indexed_transformer.transform(df_bank_clean)\n",
    "# # remove non-index cols\n",
    "# df_bank_indexed = df_bank_indexed.drop(*inputCols)"
   ]
  },
  {
   "cell_type": "markdown",
   "metadata": {},
   "source": [
    "**OneHotEncoder operations**"
   ]
  },
  {
   "cell_type": "code",
   "execution_count": 165,
   "metadata": {},
   "outputs": [],
   "source": [
    "#Example of OHE from Spark Documentation\n",
    "from pyspark.ml.feature import OneHotEncoder"
   ]
  },
  {
   "cell_type": "code",
   "execution_count": 166,
   "metadata": {},
   "outputs": [],
   "source": [
    "inputCols = [x for x in outputCols if x != \"deposit_index\"]\n",
    "outputCols = [f\"{x.split('_')[0]}_onehot\" for x in inputCols]"
   ]
  },
  {
   "cell_type": "code",
   "execution_count": 167,
   "metadata": {},
   "outputs": [],
   "source": [
    "encoder = OneHotEncoder(inputCols=inputCols,\n",
    "                        outputCols=outputCols)\n",
    "# model = encoder.fit(df_bank_indexed)\n",
    "# df_bank_onehot = model.transform(df_bank_indexed)\n",
    "# df_bank_onehot = df_bank_onehot.drop(*inputCols)"
   ]
  },
  {
   "cell_type": "markdown",
   "metadata": {},
   "source": [
    "**Vector Assembler operation**"
   ]
  },
  {
   "cell_type": "code",
   "execution_count": 168,
   "metadata": {},
   "outputs": [],
   "source": [
    "from pyspark.ml.linalg import Vectors\n",
    "from pyspark.ml.feature import VectorAssembler"
   ]
  },
  {
   "cell_type": "code",
   "execution_count": 169,
   "metadata": {},
   "outputs": [],
   "source": [
    "inputCols = [x for x in outputCols if x != \"deposit_onehot\"] + [\"age\", \"balance\", \"day\", \"duration\", \"campaign\", \"pdays\",\"previous\"]\n",
    "outputCols = [f\"{x.split('_')[0]}_vec\" for x in inputCols]"
   ]
  },
  {
   "cell_type": "code",
   "execution_count": 170,
   "metadata": {},
   "outputs": [],
   "source": [
    "assembler = VectorAssembler(inputCols=inputCols, outputCol=\"features\")\n",
    "# df_bank_vector = assembler.transform(df_bank_onehot)"
   ]
  },
  {
   "cell_type": "markdown",
   "metadata": {
    "id": "5tDLcNH2DD7_"
   },
   "source": [
    "### Step 3: Pipeline API <a class=\"anchor\" name=\"pipeline\"></a> "
   ]
  },
  {
   "cell_type": "code",
   "execution_count": 172,
   "metadata": {
    "id": "nckirdUIDD7_"
   },
   "outputs": [],
   "source": [
    "from pyspark.ml import Pipeline"
   ]
  },
  {
   "cell_type": "code",
   "execution_count": 173,
   "metadata": {},
   "outputs": [],
   "source": [
    "data_process_pipeline = Pipeline(stages=[indexer, encoder, assembler])"
   ]
  },
  {
   "cell_type": "code",
   "execution_count": 180,
   "metadata": {},
   "outputs": [],
   "source": [
    "model = data_process_pipeline.fit(df_bank_clean)\n",
    "df_bank_processed = model.transform(df_bank_clean)\n",
    "df_bank_processed = df_bank_processed.select(\"features\", \"deposit_index\").withColumnRenamed(\"deposit_index\", \"label\")\\\n",
    "    .withColumn(\"label\", col(\"label\").cast(\"int\"))"
   ]
  },
  {
   "cell_type": "markdown",
   "metadata": {
    "id": "fAgLFTqxDD7_"
   },
   "source": [
    "### Step 4: Train/Test Split <a class=\"anchor\" name=\"train-test\"></a> \n",
    "<strong>Hint : </strong> Use <code>seed</code> while splitting data to identify different sets of train/test splits."
   ]
  },
  {
   "cell_type": "code",
   "execution_count": 181,
   "metadata": {
    "id": "t5WscJX4DD7_"
   },
   "outputs": [],
   "source": [
    "#Write your code here\n",
    "import random\n",
    "random.seed(31479391)\n",
    "train, test = df_bank_processed.randomSplit([0.8, 0.2])"
   ]
  },
  {
   "cell_type": "markdown",
   "metadata": {
    "id": "xqmnYoQ8DD7_"
   },
   "source": [
    "## ML Classification Models <a class=\"anchor\" name=\"models\"></a>\n",
    "<hr />\n",
    "\n",
    "### Decision Tree <a class=\"anchor\" name=\"dt\"></a>\n",
    "Decision tree algorithms are said to be widely used because they process categorical data and are readily available in classification tasks by multiple classes. The goal of using a Decision Tree is to create a training model that can use to predict the class or value of the target variable by learning simple decision rules inferred from prior data(training data). The picture below shows some components in a decistion tree.\n",
    "![image.png](attachment:image.png)\n",
    "Decision trees use multiple algorithms to decide to split a node into two or more sub-nodes. The creation of sub-nodes increases the homogeneity of resultant sub-nodes. In other words, we can say that the purity of the node increases with respect to the target variable. The decision tree splits the nodes on all available variables and then selects the split which results in most homogeneous sub-nodes.\n",
    "\n",
    "On the downside, decision trees are prone to overfitting. They can easily become over-complex which prevents them from generalizing well to the structure in the dataset. In that case, the model is likely to end up overfitting which is a serious issue in machine learning. To overcome this decision tree hyperparameters could be tuned. For a description of some parameters, refer to this\n",
    "<a href=\"https://towardsdatascience.com/hyperparameters-of-decision-trees-explained-with-visualizations-1a6ef2f67edf\" target=\"_BLANK\">link</a>"
   ]
  },
  {
   "cell_type": "code",
   "execution_count": 204,
   "metadata": {
    "id": "R54S5AE2DD7_"
   },
   "outputs": [],
   "source": [
    "from pyspark.ml.classification import DecisionTreeClassifier\n",
    "\n",
    "# Extracts the number of nodes in the decision tree and the tree depth in the model and stores it in dt.\n",
    "dt = DecisionTreeClassifier(featuresCol = 'features', labelCol = 'label', maxDepth = 3)\n",
    "#WRITE CODE : Use the fit method to train the model with the training data you created in Step 4\n",
    "dtModel = dt.fit(train)"
   ]
  },
  {
   "cell_type": "code",
   "execution_count": 210,
   "metadata": {
    "id": "cTMA-ZtsDD7_"
   },
   "outputs": [
    {
     "name": "stdout",
     "output_type": "stream",
     "text": [
      "+-----+--------------+----------+\n",
      "|label| rawPrediction|prediction|\n",
      "+-----+--------------+----------+\n",
      "|    1|[473.0,2037.0]|       1.0|\n",
      "|    0|[2807.0,499.0]|       0.0|\n",
      "|    1|[473.0,2037.0]|       1.0|\n",
      "|    0|[473.0,2037.0]|       1.0|\n",
      "|    0|[2807.0,499.0]|       0.0|\n",
      "|    0|[2807.0,499.0]|       0.0|\n",
      "|    0|[2807.0,499.0]|       0.0|\n",
      "|    1|   [17.0,64.0]|       1.0|\n",
      "|    0|[473.0,2037.0]|       1.0|\n",
      "|    0|  [434.0,35.0]|       0.0|\n",
      "|    1|[917.0,1401.0]|       1.0|\n",
      "|    0|[917.0,1401.0]|       1.0|\n",
      "|    0|[917.0,1401.0]|       1.0|\n",
      "|    0|[2807.0,499.0]|       0.0|\n",
      "|    0|[2807.0,499.0]|       0.0|\n",
      "|    0|[2807.0,499.0]|       0.0|\n",
      "|    1|[917.0,1401.0]|       1.0|\n",
      "|    0|  [47.0,194.0]|       1.0|\n",
      "|    1|[473.0,2037.0]|       1.0|\n",
      "|    0|[2807.0,499.0]|       0.0|\n",
      "+-----+--------------+----------+\n",
      "only showing top 20 rows\n",
      "\n"
     ]
    }
   ],
   "source": [
    "#WRITE CODE to get predictions from the test data\n",
    "dtPredictions = dtModel.transform(test)\n",
    "#WRITE CODE to Display the predictions\n",
    "dtPredictions.select(\"label\", \"rawPrediction\", \"prediction\").show()"
   ]
  },
  {
   "cell_type": "markdown",
   "metadata": {
    "id": "QcGb_-XUDD8A"
   },
   "source": [
    "<div style=\"background:rgba(0,109,174,0.2);padding:10px;border-radius:4px\"><strong style=\"color:#006DAE\">NOTE: </strong>\n",
    "    You can see that DecisionTree has a parameter called <code>maxDepth</code>. Discuss the significance of this parameter.\n",
    "</div>"
   ]
  },
  {
   "cell_type": "markdown",
   "metadata": {},
   "source": [
    "`maxDepth` specifies the maximum depth of the decision tree, that is, the maximum length from the very buttom tree subnode to the root node. `maxDepth` is very crucial in the training of our model as it has signficant impact to the overfitting/underfitting of the model"
   ]
  },
  {
   "cell_type": "markdown",
   "metadata": {
    "id": "UzpyGnHdDD8A"
   },
   "source": [
    "### Random Forest <a class=\"anchor\" name=\"rf\"></a>"
   ]
  },
  {
   "cell_type": "code",
   "execution_count": 211,
   "metadata": {
    "id": "LnbBLHqrDD8A"
   },
   "outputs": [],
   "source": [
    "# WRITE CODE: Implement Random Forest Classifier\n",
    "from pyspark.ml.classification import RandomForestClassifier\n",
    "#WRITE CODE : Create a Random Forest Classiication model and train it\n",
    "rf = RandomForestClassifier(featuresCol = 'features', labelCol = 'label')\n",
    "#WRITE CODE : Use the fit method to train the model with the training data you created in Step 4\n",
    "rfModel = rf.fit(train)"
   ]
  },
  {
   "cell_type": "code",
   "execution_count": 212,
   "metadata": {
    "id": "9JIY8SERDD8A"
   },
   "outputs": [
    {
     "name": "stdout",
     "output_type": "stream",
     "text": [
      "+-----+--------------------+----------+\n",
      "|label|       rawPrediction|prediction|\n",
      "+-----+--------------------+----------+\n",
      "|    1|[8.11701080244296...|       1.0|\n",
      "|    0|[13.9020824469535...|       0.0|\n",
      "|    1|[8.10341166087953...|       1.0|\n",
      "|    0|[7.94911556026849...|       1.0|\n",
      "|    0|[13.3303383505967...|       0.0|\n",
      "|    0|[13.4110855128090...|       0.0|\n",
      "|    0|[13.0520047586524...|       0.0|\n",
      "|    1|[8.76627559515361...|       1.0|\n",
      "|    0|[10.2266727026217...|       0.0|\n",
      "|    0|[14.9865048982444...|       0.0|\n",
      "|    1|[3.28806333356571...|       1.0|\n",
      "|    0|[11.4737975624220...|       0.0|\n",
      "|    0|[12.2075561684362...|       0.0|\n",
      "|    0|[14.1360285406143...|       0.0|\n",
      "|    0|[13.6772848621137...|       0.0|\n",
      "|    0|[14.1360285406143...|       0.0|\n",
      "|    1|[8.71823220815277...|       1.0|\n",
      "|    0|[8.70041557139815...|       1.0|\n",
      "|    1|[8.02649997598788...|       1.0|\n",
      "|    0|[13.2216086780011...|       0.0|\n",
      "+-----+--------------------+----------+\n",
      "only showing top 20 rows\n",
      "\n"
     ]
    }
   ],
   "source": [
    "#WRITE CODE : get the predictions for the test data\n",
    "rfPredictions = rfModel.transform(test)\n",
    "#WRITE CODE to Display the predictions\n",
    "rfPredictions.select(\"label\", \"rawPrediction\", \"prediction\").show()"
   ]
  },
  {
   "cell_type": "markdown",
   "metadata": {
    "id": "AnVTHeLWDD8A"
   },
   "source": [
    "### Logistic Regression <a class=\"anchor\" name=\"lr\"></a>\n",
    "*Logistic Regression* is a classification algorithm. It is used to predict a binary outcome (1 / 0, Yes / No, True / False) given a set of independent variables. To represent binary/categorical outcome, we use dummy variables. You can also think of logistic regression as a special case of linear regression when the outcome variable is categorical, where we are using log of odds as dependent variable. In simple words, it predicts the probability of occurrence of an event by fitting data to a logit function."
   ]
  },
  {
   "cell_type": "code",
   "execution_count": 217,
   "metadata": {
    "id": "F2xxjvWjDD8A"
   },
   "outputs": [],
   "source": [
    "# TODO: Implement Logistic Regression Classifier\n",
    "from pyspark.ml.classification import LogisticRegression\n",
    "\n",
    "#WRITE CODE Create an initial model using the train set.\n",
    "lr = LogisticRegression(featuresCol=\"features\", labelCol=\"label\")\n",
    "lrModel = lr.fit(train)"
   ]
  },
  {
   "cell_type": "code",
   "execution_count": 227,
   "metadata": {
    "id": "NztTgjY6DD8B"
   },
   "outputs": [
    {
     "name": "stdout",
     "output_type": "stream",
     "text": [
      "+-----+--------------------+----------+\n",
      "|label|       rawPrediction|prediction|\n",
      "+-----+--------------------+----------+\n",
      "|    1|[-0.5612698278094...|       1.0|\n",
      "|    0|[1.44975465193688...|       0.0|\n",
      "|    1|[-3.7891064401115...|       1.0|\n",
      "|    0|[-0.5679639248286...|       1.0|\n",
      "|    0|[3.40267485279717...|       0.0|\n",
      "|    0|[2.37961846841525...|       0.0|\n",
      "|    0|[1.76234970317106...|       0.0|\n",
      "|    1|[-1.3059167665681...|       1.0|\n",
      "|    0|[1.17088062486398...|       0.0|\n",
      "|    0|[1.19990855442120...|       0.0|\n",
      "|    1|[-1.0782489868187...|       1.0|\n",
      "|    0|[1.26550571092044...|       0.0|\n",
      "|    0|[1.71671804337283...|       0.0|\n",
      "|    0|[2.89396907541406...|       0.0|\n",
      "|    0|[2.26104775280606...|       0.0|\n",
      "|    0|[4.88372768676989...|       0.0|\n",
      "|    1|[1.35948555528287...|       0.0|\n",
      "|    0|[-1.1632438313464...|       1.0|\n",
      "|    1|[-2.9570672511932...|       1.0|\n",
      "|    0|[2.80495463341735...|       0.0|\n",
      "+-----+--------------------+----------+\n",
      "only showing top 20 rows\n",
      "\n"
     ]
    }
   ],
   "source": [
    "#WRITE CODE: Write the Predictions for test data and display the predictions\n",
    "lrPredictions = lrModel.transform(test)\n",
    "lrPredictions.select(\"label\", \"rawPrediction\", \"prediction\").show()"
   ]
  },
  {
   "cell_type": "markdown",
   "metadata": {
    "id": "E095-euKDD8B"
   },
   "source": [
    "<div style=\"background:rgba(0,109,174,0.2);padding:10px;border-radius:4px\"><strong style=\"color:#006DAE\">NOTE: </strong>\n",
    "    Discuss various parameters used in <code>Logistic Regression</code>.\n",
    "</div>"
   ]
  },
  {
   "cell_type": "markdown",
   "metadata": {
    "id": "ReUFR7C8DD8B"
   },
   "source": [
    "## Model Evaluation <a class=\"anchor\" name=\"model-evaluation\"></a>\n",
    "<hr />\n",
    "Our goal is not just to build a model, it is about selecting a model which gives high accuracy on our sample data. There are different kinds of evaluation metrics, the choice of these depend on the type and implementation plan. More details on evaluation metrics for classification in Spark can be found <a href=\"https://spark.apache.org/docs/latest/mllib-evaluation-metrics.html\" target=\"_BLANK\">here</a>.\n",
    "We are going to cover the following evaluation in this session:\n",
    "\n",
    "<ul>\n",
    "    <li>\n",
    "        Confusion Matrix\n",
    "        <ul>\n",
    "            <li>Accuracy</li>\n",
    "            <li>Precision</li>\n",
    "            <li>Recall</li>\n",
    "            <li>F1-Score</li>\n",
    "        </ul>\n",
    "    </li>\n",
    "    <li>AUC-ROC</li>        \n",
    "    </ul>\n",
    "\n",
    "#### Accuracy\n",
    "<span style=\"color:red;font-weight:bold\">Accuracy is useful when the target class is well balanced but is not a good choice with unbalanced classes.</span> For example, if a model is designed to predict fraud from a dataset where 95% of the data points are not fraud and 5% of the data points are fraud, then a naive classifier that predicts not fraud, regardless of input, will be 95% accurate. For this reason, metrics like precision and recall are typically used because they take into account the type of error. In most applications there is some desired balance between precision and recall, which can be captured by combining the two into a single metric, called the F-measure."
   ]
  },
  {
   "cell_type": "markdown",
   "metadata": {
    "id": "tltBIAHrDD8B"
   },
   "source": [
    "#### Confusion Matrix <a class=\"anchor\" name=\"confusion-matrix\"></a>\n",
    "\n",
    "Confusion Matrix is a performance measurement for machine learning classification problem where output can be two or more classes. It is a table with 4 different combinations of predicted and actual values as shown in the picture below where T/F refers to true and positive respectively, and P/N to positive and negative respectively.\n",
    "<div>\n",
    "    <!-- <div style=\"float:left;width:50%\">\n",
    "<img src=\"attachment:image.png\">\n",
    "    </div> -->\n",
    "    <div style=\"float:left;width:50%;padding-top:50px\">\n",
    "    <img src=\"https://miro.medium.com/max/1400/1*UVP_xb4F6J-M-xH3haz5Jw.png\">\n",
    "    </div>\n",
    "    <div style=\"clear:both\"></div>\n",
    "    </div>\n",
    "\n",
    "From the confusion matrix, we can obtain the following indicators.\n",
    "\n",
    "- **Recall:** Out of all the positive classes, how much we predicted correctly. It should be high as possible.\n",
    "- **Precision:** Out of all the positive classes we have predicted correctly, how many are actually positive.\n",
    "- **Accuracy:** Out of all the classes, how much we predicted correctly. It should be high as possible.\n",
    "- **F1-Score : Combining Precision and Accuracy:** It is the weighted average of Precision and Recall. It takes both <strong>False Positives</strong> and <strong>False Negative </strong> into account."
   ]
  },
  {
   "cell_type": "markdown",
   "metadata": {
    "id": "qWSiFpSEDD8B"
   },
   "source": [
    "<a class=\"anchor\" id=\"lab-task-2\"></a>\n",
    "<div style=\"background:rgba(0,109,174,0.2);padding:10px;border-radius:4px\"><strong style=\"color:#FF5555\">2. Lab Task: </strong>\n",
    "    Calculate the remaining <strong>False Negative and False Positive</strong> for <code>Decision Tree</code> based on the example below. Then Compute the other metrics, i.e. <strong>Accuracy</strong>, <strong>Precision</strong>, <strong>Recall</strong> and <strong>F1-Score</strong> for the DT Model.    \n",
    "    \n",
    "<strong style=\"color:orange\">NOTE:</strong>In our case we are using Yes=1 and No=0. Remember that 1 doesn't mean positive always, it will depend on how the Target variable is encoded as well.\n",
    "</div>\n"
   ]
  },
  {
   "cell_type": "code",
   "execution_count": 219,
   "metadata": {
    "id": "3dTyoEm3DD8B"
   },
   "outputs": [],
   "source": [
    "# Calculate the elements of the confusion matrix\n",
    "TN = dtPredictions.filter('prediction = 0 AND label = 0').count()\n",
    "TP = dtPredictions.filter('prediction = 1 AND label = 1').count()\n",
    "#WRITE CODE to find the False Negative\n",
    "FN = dtPredictions.filter('prediction = 0 AND label = 1').count()\n",
    "#WRITE CODE to find the False Positive\n",
    "FP = dtPredictions.filter('prediction = 1 AND label = 0').count()"
   ]
  },
  {
   "cell_type": "code",
   "execution_count": 222,
   "metadata": {
    "id": "3dTyoEm3DD8B"
   },
   "outputs": [
    {
     "name": "stdout",
     "output_type": "stream",
     "text": [
      "+-----+----------+-----+\n",
      "|label|prediction|count|\n",
      "+-----+----------+-----+\n",
      "|    1|       0.0|  131|\n",
      "|    0|       0.0|  828|\n",
      "|    1|       1.0|  928|\n",
      "|    0|       1.0|  350|\n",
      "+-----+----------+-----+\n",
      "\n"
     ]
    }
   ],
   "source": [
    "# show confusion matrix\n",
    "dtPredictions.groupBy('label', 'prediction').count().show()"
   ]
  },
  {
   "cell_type": "code",
   "execution_count": 224,
   "metadata": {
    "id": "3dTyoEm3DD8B"
   },
   "outputs": [
    {
     "name": "stdout",
     "output_type": "stream",
     "text": [
      "accuracy:0.7849798837729102\n",
      "precision:0.7261345852895149\n",
      "recall:0.8762983947119924\n",
      "f1:0.7941805733846813\n"
     ]
    }
   ],
   "source": [
    "# calculate metrics by the confusion matrix\n",
    "accuracy = (TN + TP) / (TN + TP + FP + FN)\n",
    "precision = (TP) / (TP + FP)\n",
    "recall = (TP) / (TP + FN)\n",
    "f1 = (2) / ((1/recall) + (1/precision))\n",
    "\n",
    "#WRITE CODE : Display the various metrics calculated above\n",
    "print(f\"accuracy:{accuracy}\\nprecision:{precision}\\nrecall:{recall}\\nf1:{f1}\")"
   ]
  },
  {
   "cell_type": "markdown",
   "metadata": {
    "id": "KCYOMQ_dDD8B"
   },
   "source": [
    "<a class=\"anchor\" id=\"lab-task-3\"></a>\n",
    "<div style=\"background:rgba(0,109,174,0.2);padding:10px;border-radius:4px\"><strong style=\"color:#FF5555\">3. Lab Task: </strong>\n",
    "    Create a function <code>compute_metrics()</code> which takes <strong>predictions</strong> as input parameter and computes all these metrics. Use the function to compute the 4 metrics for all 3 Classification Algorithms.\n",
    "</div>\n"
   ]
  },
  {
   "cell_type": "code",
   "execution_count": 225,
   "metadata": {
    "id": "FU2KJeU7DD8B"
   },
   "outputs": [],
   "source": [
    "def compute_metrics(predictions):\n",
    "    # Calculate the elements of the confusion matrix\n",
    "    TN = predictions.filter('prediction = 0 AND label = 0').count()\n",
    "    TP = predictions.filter('prediction = 1 AND label = 1').count()\n",
    "    FN = predictions.filter('prediction = 0 AND label = 1').count()\n",
    "    FP = predictions.filter('prediction = 1 AND label = 0').count()\n",
    "    accuracy = (TN + TP) / (TN + TP + FP + FN)\n",
    "    precision = (TP) / (TP + FP)\n",
    "    recall = (TP) / (TP + FN)\n",
    "    f1 = (2) / ((1/recall) + (1/precision))\n",
    "    return accuracy,precision,recall,f1    "
   ]
  },
  {
   "cell_type": "code",
   "execution_count": null,
   "metadata": {
    "id": "0lUMWDfJDD8C"
   },
   "outputs": [],
   "source": [
    "#WRITE CODE : Print the accuracy,precision,recall and f1 scores for each Classification algorithm, using the function created"
   ]
  },
  {
   "cell_type": "code",
   "execution_count": 226,
   "metadata": {},
   "outputs": [
    {
     "data": {
      "text/plain": [
       "(0.81135449262405, 0.8107317073170732, 0.7847025495750708, 0.7975047984644914)"
      ]
     },
     "execution_count": 226,
     "metadata": {},
     "output_type": "execute_result"
    }
   ],
   "source": [
    "compute_metrics(rfPredictions)"
   ]
  },
  {
   "cell_type": "code",
   "execution_count": 228,
   "metadata": {},
   "outputs": [
    {
     "data": {
      "text/plain": [
       "(0.8319177469825659,\n",
       " 0.8318756073858115,\n",
       " 0.8083097261567517,\n",
       " 0.8199233716475096)"
      ]
     },
     "execution_count": 228,
     "metadata": {},
     "output_type": "execute_result"
    }
   ],
   "source": [
    "compute_metrics(lrPredictions)"
   ]
  },
  {
   "cell_type": "markdown",
   "metadata": {
    "id": "dtHYey_MDD8C"
   },
   "source": [
    "<a class=\"anchor\" id=\"lab-task-4\"></a>\n",
    "<div style=\"background:rgba(0,109,174,0.2);padding:10px;border-radius:4px\"><strong style=\"color:#FF5555\">4. Lab Task: </strong>\n",
    "  Present the accuracies, precision and recall of the different classification algorithms in a bar chart using <code>matplotlib</code>.  You can use the function given here:\n",
    "    <pre>\n",
    "    import matplotlib.pyplot as plt\n",
    "    %matplotlib inline\n",
    "    def plot_metrics(x,y):\n",
    "        plt.style.use('ggplot')   \n",
    "        x_pos = [i for i, _ in enumerate(x)]\n",
    "        plt.bar(x_pos, y, color='blue')\n",
    "        plt.xlabel(\"Classification Algorithms\")\n",
    "        plt.ylabel(\"AUC\")\n",
    "        plt.title(\"Accuracy of ML Classification Algorithms\")\n",
    "        plt.xticks(x_pos, x)\n",
    "        plt.show()\n",
    "    </pre>\n",
    "What do you observe about the differences in the accuracy/precision/recall/f1-scores for these different classification algorithms? How do you decide the most suitable metric? Discuss this with your tutor.   \n",
    "</div>\n"
   ]
  },
  {
   "cell_type": "code",
   "execution_count": 232,
   "metadata": {},
   "outputs": [],
   "source": [
    "import matplotlib.pyplot as plt\n",
    "%matplotlib inline\n",
    "def plot_metrics(x,y):\n",
    "    plt.style.use('ggplot')   \n",
    "    x_pos = [i for i, _ in enumerate(x)]\n",
    "    plt.bar(x_pos, y, color='blue')\n",
    "    plt.xlabel(\"Classification Algorithms\")\n",
    "    plt.ylabel(\"AUC\")\n",
    "    plt.title(\"Accuracy of ML Classification Algorithms\")\n",
    "    plt.xticks(x_pos, x)\n",
    "    plt.show()\n",
    "    "
   ]
  },
  {
   "cell_type": "code",
   "execution_count": 247,
   "metadata": {},
   "outputs": [],
   "source": [
    "x = [\"Decision Tree\", \"Random Forest\", \"Logistic Regression\"]\n",
    "dt_metrics = compute_metrics(dtPredictions)\n",
    "rf_metrics = compute_metrics(rfPredictions)\n",
    "lr_metrics = compute_metrics(lrPredictions)\n",
    "y_acc = [dt_metrics[0], rf_metrics[0], lr_metrics[0]]\n",
    "y_prec = [dt_metrics[1], rf_metrics[1], lr_metrics[1]]\n",
    "y_rec = [dt_metrics[2], rf_metrics[2], lr_metrics[2]]\n",
    "y_f1 = [dt_metrics[3], rf_metrics[3], lr_metrics[3]]"
   ]
  },
  {
   "cell_type": "code",
   "execution_count": 248,
   "metadata": {},
   "outputs": [
    {
     "data": {
      "image/png": "[encoded data removed]",
      "text/plain": [
       "<Figure size 640x480 with 1 Axes>"
      ]
     },
     "metadata": {},
     "output_type": "display_data"
    }
   ],
   "source": [
    "plot_metrics(x,y_acc)"
   ]
  },
  {
   "cell_type": "code",
   "execution_count": 249,
   "metadata": {},
   "outputs": [
    {
     "data": {
      "image/png": "[encoded data removed]",
      "text/plain": [
       "<Figure size 640x480 with 1 Axes>"
      ]
     },
     "metadata": {},
     "output_type": "display_data"
    }
   ],
   "source": [
    "plot_metrics(x,y_prec)"
   ]
  },
  {
   "cell_type": "code",
   "execution_count": 250,
   "metadata": {},
   "outputs": [
    {
     "data": {
      "image/png": "[encoded data removed]",
      "text/plain": [
       "<Figure size 640x480 with 1 Axes>"
      ]
     },
     "metadata": {},
     "output_type": "display_data"
    }
   ],
   "source": [
    "plot_metrics(x,y_rec)"
   ]
  },
  {
   "cell_type": "code",
   "execution_count": 251,
   "metadata": {},
   "outputs": [
    {
     "data": {
      "image/png": "[encoded data removed]",
      "text/plain": [
       "<Figure size 640x480 with 1 Axes>"
      ]
     },
     "metadata": {},
     "output_type": "display_data"
    }
   ],
   "source": [
    "plot_metrics(x,y_f1)"
   ]
  },
  {
   "cell_type": "markdown",
   "metadata": {
    "id": "9fMJoGyfDD8C"
   },
   "source": [
    "#### Area Under the Curve (AUC-ROC) <a class=\"anchor\" name=\"roc\"></a>\n",
    "When we need to check or visualize the performance of the multi - class classification problem, we use AUC (Area Under The Curve) ROC (Receiver Operating Characteristics) curve. It is one of the most important evaluation metrics for checking any classification model’s performance.\n",
    "\n",
    "<br/><br/>\n",
    "\n",
    "<div style=\"width:40%;float:left;text-align:left;\">\n",
    "<!-- <img src=\"attachment:image.png\" width=\"200px;\">\n",
    "    </div><div style=\"width:60%;float:right;text-align:justify\"> -->\n",
    "    \n",
    "AUC - ROC curve is a performance measurement for classification problem at various thresholds settings. ROC is a probability curve and AUC represents degree or measure of separability. It tells how much model is capable of distinguishing between classes. Higher the AUC, better the model is at predicting 0s as 0s and 1s as 1s.\n",
    "    \n",
    "In the example below, we are using Spark's <code>BinaryClassificationEvaluator</code> to compute the AUC-ROC curve.\n",
    "   </div>\n",
    "   <div style=\"clear:both\"></div> "
   ]
  },
  {
   "cell_type": "markdown",
   "metadata": {
    "id": "0muvVdflDD8C"
   },
   "source": [
    "##### Binary Classification Metrics <a class=\"anchor\" name=\"bce\"></a> \n",
    "Now let's evaluate the model using BinaryClassificationMetrics class in Spark ML. BinaryClassificationMetrics by default uses areaUnderROC as the performance metric.\n",
    "<a href=\"https://spark.apache.org/docs/latest/mllib-evaluation-metrics.html#binary-classification\" target='_BLANK'>Read More</a>"
   ]
  },
  {
   "cell_type": "markdown",
   "metadata": {
    "id": "7VVPVi94DD8C"
   },
   "source": [
    "<a class=\"anchor\" id=\"lab-task-5\"></a>\n",
    "<div style=\"background:rgba(0,109,174,0.2);padding:10px;border-radius:4px\"><strong style=\"color:#FF5555\">5. Lab Task: </strong>\n",
    "    Compute the <code>Area Under ROC</code> for the two other Algorithms based on the example below.\n",
    "</div>\n"
   ]
  },
  {
   "cell_type": "code",
   "execution_count": 253,
   "metadata": {
    "id": "4A_AB2gpDD8C"
   },
   "outputs": [
    {
     "name": "stdout",
     "output_type": "stream",
     "text": [
      "areaUnderROC\n",
      "0.7658500747894593\n"
     ]
    }
   ],
   "source": [
    "# Use BinaryClassificationEvaluator to evaluate a model\n",
    "from pyspark.ml.evaluation import BinaryClassificationEvaluator\n",
    "\n",
    "# Evaluate model Decision Tree\n",
    "evaluator = BinaryClassificationEvaluator(rawPredictionCol=\"rawPrediction\")\n",
    "auc_dt = evaluator.evaluate(dtPredictions)\n",
    "print(evaluator.getMetricName())\n",
    "print(auc_dt)"
   ]
  },
  {
   "cell_type": "code",
   "execution_count": 254,
   "metadata": {
    "id": "oppxGZPVDD8C"
   },
   "outputs": [
    {
     "name": "stdout",
     "output_type": "stream",
     "text": [
      "areaUnderROC\n",
      "0.8954498670142401\n"
     ]
    }
   ],
   "source": [
    "#WRITE CODE : area under curve for Random Forest\n",
    "auc_rf = evaluator.evaluate(rfPredictions)\n",
    "print(evaluator.getMetricName())\n",
    "print(auc_rf)"
   ]
  },
  {
   "cell_type": "code",
   "execution_count": 256,
   "metadata": {
    "id": "2FgU01DGDD8C"
   },
   "outputs": [
    {
     "name": "stdout",
     "output_type": "stream",
     "text": [
      "areaUnderROC\n",
      "0.9072334152570508\n"
     ]
    }
   ],
   "source": [
    "#WRITE CODE : area under curve for Logistic Regression\n",
    "auc_lr = evaluator.evaluate(lrPredictions)\n",
    "print(evaluator.getMetricName())\n",
    "print(auc_lr)"
   ]
  },
  {
   "cell_type": "markdown",
   "metadata": {
    "id": "dAsDetmWDD8D"
   },
   "source": [
    "### Visualizing AUC-ROC <a class=\"anchor\" name=\"roc-viz\"></a> \n",
    "We can easily visualize the ROC curve for <strong>Logistic Regression</strong> using the <code>BinaryClassificationEvaluator</code>. The example below shows how to plot it using matplotlib.\n"
   ]
  },
  {
   "cell_type": "code",
   "execution_count": 257,
   "metadata": {
    "id": "PbSNM_DnDD8D"
   },
   "outputs": [
    {
     "name": "stdout",
     "output_type": "stream",
     "text": [
      "Area Under ROC: 0.9072334152570508\n"
     ]
    },
    {
     "data": {
      "image/png": "[encoded data removed]",
      "text/plain": [
       "<Figure size 640x480 with 1 Axes>"
      ]
     },
     "metadata": {},
     "output_type": "display_data"
    }
   ],
   "source": [
    "import matplotlib.pyplot as plt\n",
    "\n",
    "print(\"Area Under ROC: \" + str(evaluator.evaluate(lrPredictions, {evaluator.metricName: \"areaUnderROC\"})))\n",
    "\n",
    "# Plot ROC curve\n",
    "trainingSummary = lrModel.summary\n",
    "roc = trainingSummary.roc.toPandas()\n",
    "plt.plot(roc['FPR'],roc['TPR'])\n",
    "plt.ylabel('TPR')\n",
    "plt.xlabel('FPR')\n",
    "plt.title('ROC Curve')\n",
    "plt.show()"
   ]
  },
  {
   "cell_type": "markdown",
   "metadata": {
    "id": "1m2uyIjBDD8D"
   },
   "source": [
    "<div style=\"background:rgba(164,0,255,0.2);padding:10px;border-radius:4px\">\n",
    "However, for other algorithms, we need to calculate it manually. The ROC Curve is simply a line plot of <code>FPR</code> and <code>TPR</code> across all thresholds (i.e. 0-1). We can calculate <code>TPR</code> and <code>FPR</code> from the confusion matrix. However, by default, a threshold value of 0.5 is used while computing the confusion matrix. So we need a way to compute the confusion matrix for different thresholds.</div>"
   ]
  },
  {
   "cell_type": "markdown",
   "metadata": {
    "id": "HR08Bi_xDD8D"
   },
   "source": [
    "##### Getting the thresholds\n",
    "We can simply use numpy <code>linspace</code> to get a list of thresholds."
   ]
  },
  {
   "cell_type": "code",
   "execution_count": 278,
   "metadata": {
    "id": "__j_bTTRDD8D"
   },
   "outputs": [
    {
     "name": "stdout",
     "output_type": "stream",
     "text": [
      "[0.  0.1 0.2 0.3 0.4 0.5 0.6 0.7 0.8 0.9 1. ]\n"
     ]
    }
   ],
   "source": [
    "import numpy as np\n",
    "print(np.linspace(0, 1, 11))"
   ]
  },
  {
   "cell_type": "markdown",
   "metadata": {
    "id": "8BvmEsI7DD8D"
   },
   "source": [
    "If we look at the <code>probability</code> column of the predictions, we will see it is an <code>Array</code> with two probability values, the first one for negative class and the second one for positive class. Now we can consider the <strong>probability for positive class</strong> to decide which value is <strong>positive</strong> and which value is <strong>negative</strong>\n",
    "\n",
    "For example, if our threshold is 0.7, we can say <strong>if the positive probability is greater than 0.7, it is a positive prediction else it is a negative prediction</strong>. \n",
    "\n",
    "Here is an example for the Decision Tree Predictions."
   ]
  },
  {
   "cell_type": "code",
   "execution_count": 264,
   "metadata": {
    "id": "RInRXHdgDD8D"
   },
   "outputs": [],
   "source": [
    "#User Defined Function to split the probabilities into two columns\n",
    "import pyspark.sql.functions as F\n",
    "import pyspark.sql.types as T\n",
    "to_array = F.udf(lambda v: v.toArray().tolist(), T.ArrayType(T.FloatType()))"
   ]
  },
  {
   "cell_type": "code",
   "execution_count": 265,
   "metadata": {
    "id": "SMjSdrmkDD8D"
   },
   "outputs": [],
   "source": [
    "#Splitting the probability to 2 parts using the UDF\n",
    "df = dtPredictions.withColumn('probability', to_array('probability'))"
   ]
  },
  {
   "cell_type": "code",
   "execution_count": 269,
   "metadata": {
    "id": "iUOqW0b3DD8D"
   },
   "outputs": [],
   "source": [
    "#A new df which contains the probabilites in separate columns\n",
    "prob_df = df.select(df.probability[0].alias('negative_prob'),df.probability[1].alias('positive_prob'),'label')"
   ]
  },
  {
   "cell_type": "markdown",
   "metadata": {
    "id": "NwDqg0f7DD8D"
   },
   "source": [
    "Now, we have extracted the probabilities for positive and negative class. Now we need to create our own <code>prediction</code> column based on a threshold we are provided."
   ]
  },
  {
   "cell_type": "code",
   "execution_count": 272,
   "metadata": {
    "id": "hr28JCngDD8E"
   },
   "outputs": [],
   "source": [
    "#Here based on the threshold, the prediction column is computed\n",
    "threshold=0.7\n",
    "df_dtProb = prob_df.withColumn('prediction',F.when(prob_df.positive_prob > threshold,1).otherwise(0))"
   ]
  },
  {
   "cell_type": "markdown",
   "metadata": {
    "id": "FShtcx7QDD8E"
   },
   "source": [
    "Now we can create the confusion metrics based on the new predicted class. Let's create a function to do that. The function returns the TN,TP,FN and FP values.\n",
    "\n",
    "**CHALLENGE TASK: the following confusion_matrix function is slow, why is it so slow? Can you refactor it?**"
   ]
  },
  {
   "cell_type": "code",
   "execution_count": 273,
   "metadata": {
    "id": "5ThkjNh6DD8E"
   },
   "outputs": [],
   "source": [
    "def confusion_matrix(predictions):\n",
    "     # Calculate the elements of the confusion matrix\n",
    "    TN = predictions.filter('prediction = 0 AND label = 0').count()\n",
    "    TP = predictions.filter('prediction = 1 AND label = 1').count()\n",
    "    FN = predictions.filter('prediction = 0 AND label = 1').count()\n",
    "    FP = predictions.filter('prediction = 1 AND label = 0').count()\n",
    "    return TP,TN,FP,FN"
   ]
  },
  {
   "cell_type": "code",
   "execution_count": 274,
   "metadata": {
    "id": "qY9v2XgjDD8E"
   },
   "outputs": [
    {
     "name": "stdout",
     "output_type": "stream",
     "text": [
      "TPR: 0.8762983947119924 FPR: 0.29711375212224106\n"
     ]
    }
   ],
   "source": [
    "#TESTING \n",
    "#for threshold 0.7, lets calculate the TN,TP,FN,FP from confusion matrix\n",
    "threshold=0.7\n",
    "test_df=prob_df.withColumn('prediction',F.when(prob_df.positive_prob > threshold,1).otherwise(0))\n",
    "tp,tn,fp,fn = confusion_matrix(prob_df)  \n",
    "tpr = tp/(tp+fn)\n",
    "fpr = fp/(fp+tn)\n",
    "print('TPR:',tpr,'FPR:',fpr)"
   ]
  },
  {
   "cell_type": "markdown",
   "metadata": {
    "id": "HF9cDxtGDD8E"
   },
   "source": [
    "<a class=\"anchor\" id=\"challenge-task\"></a>\n",
    "<div style=\"background:rgba(164,0,255,0.2);padding:10px;border-radius:4px\"><strong style=\"color:purple\">CHALLENGE TASK: </strong>\n",
    "    Based on all the above information, create a function, which loops through all the thresholds and computes the <code>TPR</code> and <code>TFR</code> for each threshold. Store all the <code>TPR</code> and <code>TFR</code> values in separate arrays and later visualize the <strong>ROC Curve</strong> for <strong>Decision Tree</strong> and <strong>Random Forest</strong>.\n",
    "</div>\n"
   ]
  },
  {
   "cell_type": "code",
   "execution_count": null,
   "metadata": {
    "id": "nI-6id8bDD8E"
   },
   "outputs": [],
   "source": [
    "#WRITE CODE "
   ]
  },
  {
   "cell_type": "code",
   "execution_count": 320,
   "metadata": {},
   "outputs": [],
   "source": [
    "thresholds = np.linspace(0, 1, 100)"
   ]
  },
  {
   "cell_type": "code",
   "execution_count": 321,
   "metadata": {},
   "outputs": [],
   "source": [
    "def calc_roc(predictions, thresholds):\n",
    "    res = []\n",
    "    for threshold in thresholds:\n",
    "        df = predictions.withColumn('probability', to_array('probability'))\n",
    "        prob_df = df.select(df.probability[0].alias('negative_prob'),df.probability[1].alias('positive_prob'),'label')\n",
    "        prob_df = prob_df.withColumn('prediction',F.when(prob_df.positive_prob > threshold,1).otherwise(0))\n",
    "        tp,tn,fp,fn = confusion_matrix(prob_df)  \n",
    "        tpr = tp/(tp+fn)\n",
    "        fpr = fp/(fp+tn)\n",
    "        res.append([fpr, tpr])\n",
    "#         tpr_list.append(tpr)\n",
    "#         fpr_list.append(fpr)\n",
    "    res = spark.createDataFrame(res).withColumnRenamed(\"_1\", \"FPR\").withColumnRenamed(\"_2\", \"TPR\")\n",
    "    return res"
   ]
  },
  {
   "cell_type": "code",
   "execution_count": 322,
   "metadata": {
    "scrolled": true
   },
   "outputs": [],
   "source": [
    "rfROC = calc_roc(rfPredictions, thresholds).toPandas()"
   ]
  },
  {
   "cell_type": "code",
   "execution_count": 323,
   "metadata": {
    "scrolled": true
   },
   "outputs": [
    {
     "data": {
      "image/png": "[encoded data removed]",
      "text/plain": [
       "<Figure size 640x480 with 1 Axes>"
      ]
     },
     "metadata": {},
     "output_type": "display_data"
    }
   ],
   "source": [
    "plt.plot(rfROC['FPR'],rfROC['TPR'])\n",
    "plt.ylabel('TPR')\n",
    "plt.xlabel('FPR')\n",
    "plt.title('ROC Curve')\n",
    "plt.show()"
   ]
  },
  {
   "cell_type": "code",
   "execution_count": 327,
   "metadata": {},
   "outputs": [],
   "source": [
    "dtROC = calc_roc(dtPredictions, thresholds).toPandas()"
   ]
  },
  {
   "cell_type": "code",
   "execution_count": 328,
   "metadata": {},
   "outputs": [
    {
     "data": {
      "image/png": "[encoded data removed]",
      "text/plain": [
       "<Figure size 640x480 with 1 Axes>"
      ]
     },
     "metadata": {},
     "output_type": "display_data"
    }
   ],
   "source": [
    "plt.plot(dtROC['FPR'],dtROC['TPR'])\n",
    "plt.ylabel('TPR')\n",
    "plt.xlabel('FPR')\n",
    "plt.title('ROC Curve')\n",
    "plt.show()"
   ]
  },
  {
   "cell_type": "markdown",
   "metadata": {
    "id": "m1kIajDbDD8E"
   },
   "source": [
    "### Congratulations on finishing this activity. See you next week."
   ]
  },
  {
   "cell_type": "markdown",
   "metadata": {
    "id": "UtCGdr1rDD8E"
   },
   "source": [
    "## References\n",
    "\n",
    "1. https://www.kdnuggets.com/2020/04/performance-evaluation-metrics-classification.html\n",
    "2. https://spark.apache.org/docs/latest/mllib-evaluation-metrics.html"
   ]
  }
 ],
 "metadata": {
  "colab": {
   "name": "Week6_Classification Algorithms.ipynb",
   "provenance": []
  },
  "kernelspec": {
   "display_name": "Python 3 (ipykernel)",
   "language": "python",
   "name": "python3"
  },
  "language_info": {
   "codemirror_mode": {
    "name": "ipython",
    "version": 3
   },
   "file_extension": ".py",
   "mimetype": "text/x-python",
   "name": "python",
   "nbconvert_exporter": "python",
   "pygments_lexer": "ipython3",
   "version": "3.10.11"
  }
 },
 "nbformat": 4,
 "nbformat_minor": 4
}
